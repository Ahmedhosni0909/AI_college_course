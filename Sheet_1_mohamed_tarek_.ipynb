{
 "cells": [
  {
   "cell_type": "markdown",
   "metadata": {},
   "source": [
    "# Question 1: Addition"
   ]
  },
  {
   "cell_type": "code",
   "execution_count": null,
   "metadata": {},
   "outputs": [],
   "source": [
    "def add(a,b):\n",
    "    return a+b\n",
    "\n",
    "\n",
    "# Main Method\n",
    "x=float(input(\"first number= \"))\n",
    "y=float(input(\"second number= \"))\n",
    "print(\"the sum =\",add(x,y))"
   ]
  },
  {
   "cell_type": "markdown",
   "metadata": {},
   "source": [
    "# Question 2: buyLotsOfFruit function"
   ]
  },
  {
   "cell_type": "code",
   "execution_count": null,
   "metadata": {},
   "outputs": [],
   "source": [
    "fruitPrices = {'apples': 2.00, 'oranges': 1.50, 'pears': 1.75,\n",
    "               'limes': 0.75, 'strawberries': 1.00}\n",
    "\n",
    "def buyLotsOfFruit(orderList):\n",
    "    totalCost = 0.0\n",
    "    for i in orderList:\n",
    "        if i[0] in fruitPrices:\n",
    "                totalCost+=i[1]\n",
    "        else:\n",
    "            print(i[0],\"not exist\")  #error message if item not exist in fruitPrices \n",
    "            orderList.remove(i)      #removing this item from the list(orderlist)\n",
    "        \n",
    "    return totalCost\n",
    "\n",
    "\n",
    "# Main Method\n",
    "orderList = [('apples', 2.0), ('pears', 3.0), ('limes', 4.0), ('bananas',3.5)]  #bananas not exist in fruitPrices  \n",
    "print('Cost of ', orderList, '  is  ', buyLotsOfFruit(orderList))"
   ]
  },
  {
   "cell_type": "markdown",
   "metadata": {},
   "source": [
    "# Question 3: shopSmart function"
   ]
  },
  {
   "cell_type": "code",
   "execution_count": null,
   "metadata": {},
   "outputs": [],
   "source": [
    "def shopSmart(orderList, fruitShops):\n",
    "    list1=[]\n",
    "    for i in range(len(fruitShops)):\n",
    "        price=0\n",
    "        cn=0\n",
    "        val=list(fruitShops[i].values())\n",
    "        for j in orderList:\n",
    "            price+=(j[1]*val[cn]); cn+=1\n",
    "        list1.append(price)\n",
    "    min_v=min(list1)\n",
    "    min_index=list1.index(min_v)\n",
    "    \n",
    "    return min_index+1\n",
    "\n",
    "\n",
    "#Main Method\n",
    "shop1 = {'apples': 2.0, 'oranges': 1.0}\n",
    "shop2 = {'apples': 1.0, 'oranges': 5.0}\n",
    "shops = [shop1, shop2]\n",
    "orders = [('apples', 1.0), ('oranges', 3.0)]\n",
    "print(\"For orders \", orders, \", the best shop is ---> shop\",shopSmart(orders, shops))\n",
    "orders = [('apples', 3.0)]\n",
    "print(\"For orders \", orders, \", the best shop is ---> shop\",shopSmart(orders, shops))\n",
    "\n",
    "\n",
    "#extra test\n",
    "#to have total 4 shops to compare between (shop 1,2,3,4)\n",
    "\n",
    "#shop3 = {'apples': 1.0, 'oranges': 1.0}\n",
    "#shop4 = {'apples': 2.0, 'oranges': 0.5}\n",
    "#\n",
    "#shops = [shop1,shop2,shop3,shop4]  #total 4 shops\n",
    "#\n",
    "#orders = [('apples', 1.0), ('oranges', 3.0)]    #this case shop 4 is the cheapest\n",
    "#print(\"For orders \", orders, \", the best shop is ---> shop\",shopSmart(orders, shops))\n",
    "#orders = [('apples', 3.0), ('oranges', 1.0)]    #this case shop 3 is the cheapest\n",
    "#print(\"For orders \", orders, \", the best shop is ---> shop\",shopSmart(orders, shops))"
   ]
  },
  {
   "cell_type": "code",
   "execution_count": null,
   "metadata": {},
   "outputs": [],
   "source": []
  }
 ],
 "metadata": {
  "kernelspec": {
   "display_name": "Python 3",
   "language": "python",
   "name": "python3"
  },
  "language_info": {
   "codemirror_mode": {
    "name": "ipython",
    "version": 3
   },
   "file_extension": ".py",
   "mimetype": "text/x-python",
   "name": "python",
   "nbconvert_exporter": "python",
   "pygments_lexer": "ipython3",
   "version": "3.7.4"
  }
 },
 "nbformat": 4,
 "nbformat_minor": 2
}
